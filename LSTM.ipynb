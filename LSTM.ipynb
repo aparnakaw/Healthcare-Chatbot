{
  "nbformat": 4,
  "nbformat_minor": 0,
  "metadata": {
    "kernelspec": {
      "display_name": "Python 3",
      "language": "python",
      "name": "python3"
    },
    "language_info": {
      "codemirror_mode": {
        "name": "ipython",
        "version": 3
      },
      "file_extension": ".py",
      "mimetype": "text/x-python",
      "name": "python",
      "nbconvert_exporter": "python",
      "pygments_lexer": "ipython3",
      "version": "3.7.4"
    },
    "colab": {
      "name": "LSTM.ipynb",
      "provenance": [],
      "collapsed_sections": [],
      "machine_shape": "hm"
    },
    "accelerator": "TPU"
  },
  "cells": [
    {
      "cell_type": "markdown",
      "metadata": {
        "id": "bJoSyjHR6EU1"
      },
      "source": [
        "# **Chatbot with RNN LSTM**"
      ]
    },
    {
      "cell_type": "markdown",
      "metadata": {
        "id": "KfMVPits6rJ_"
      },
      "source": [
        "Importing Libraries"
      ]
    },
    {
      "cell_type": "code",
      "metadata": {
        "id": "FN1YASvCMeQn"
      },
      "source": [
        "import nltk\n",
        "import json\n",
        "import pickle\n",
        "import numpy as np\n",
        "from keras.models import Sequential\n",
        "from keras.layers import Dense, Activation, Dropout\n",
        "\n",
        "from tensorflow.keras.preprocessing.text import Tokenizer\n",
        "from tensorflow.keras.layers import Input,Embedding, LSTM, Dense, GlobalMaxPooling1D,Flatten\n",
        "from tensorflow.keras.models import Model\n",
        "import random\n",
        "import pandas as pd\n",
        "import matplotlib.pyplot as plt"
      ],
      "execution_count": null,
      "outputs": []
    },
    {
      "cell_type": "markdown",
      "metadata": {
        "id": "0brNQStF6vN3"
      },
      "source": [
        "Uploading File"
      ]
    },
    {
      "cell_type": "code",
      "metadata": {
        "colab": {
          "resources": {
            "http://localhost:8080/nbextensions/google.colab/files.js": {
              "data": "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",
              "ok": true,
              "headers": [
                [
                  "content-type",
                  "application/javascript"
                ]
              ],
              "status": 200,
              "status_text": ""
            }
          },
          "base_uri": "https://localhost:8080/",
          "height": 70
        },
        "id": "yEkgpBZqNEAY",
        "outputId": "1afae429-0630-480e-b14e-6d2d0a49b623"
      },
      "source": [
        "import io\n",
        "import os\n",
        "from google.colab import files\n",
        "## Uploading the file\n",
        "file_upload = files.upload()"
      ],
      "execution_count": null,
      "outputs": [
        {
          "output_type": "display_data",
          "data": {
            "text/html": [
              "\n",
              "     <input type=\"file\" id=\"files-8ef8f4fc-b122-4ef1-82dc-5d22989c6e3f\" name=\"files[]\" multiple disabled\n",
              "        style=\"border:none\" />\n",
              "     <output id=\"result-8ef8f4fc-b122-4ef1-82dc-5d22989c6e3f\">\n",
              "      Upload widget is only available when the cell has been executed in the\n",
              "      current browser session. Please rerun this cell to enable.\n",
              "      </output>\n",
              "      <script src=\"/nbextensions/google.colab/files.js\"></script> "
            ],
            "text/plain": [
              "<IPython.core.display.HTML object>"
            ]
          },
          "metadata": {}
        },
        {
          "output_type": "stream",
          "name": "stdout",
          "text": [
            "Saving data.json to data.json\n"
          ]
        }
      ]
    },
    {
      "cell_type": "markdown",
      "metadata": {
        "id": "m_0EPsZe6zjq"
      },
      "source": [
        "Data Preprocessing\n",
        "* Appending data to lists (tags and inputs)"
      ]
    },
    {
      "cell_type": "code",
      "metadata": {
        "id": "YjkJsSyqMeQv"
      },
      "source": [
        "# Getting all data to list\n",
        "tags=[]\n",
        "inputs = [] # pattern\n",
        "responses={}\n",
        "documents = []\n",
        "#ignore_words = ['?', '!']\n",
        "data_file = open('/content/data.json').read()\n",
        "data1 = json.loads(data_file)\n",
        "\n",
        "for intent in data1['intents']:\n",
        "    responses[intent['tag']]= intent['responses']\n",
        "    for lines in intent['patterns']:\n",
        "        inputs.append(lines)\n",
        "        tags.append(intent['tag'])"
      ],
      "execution_count": null,
      "outputs": []
    },
    {
      "cell_type": "code",
      "metadata": {
        "id": "B5cFOMT4MeQw"
      },
      "source": [
        "pickle.dump(inputs,open('texts.pkl','wb'))\n",
        "pickle.dump(tags,open('labels.pkl','wb'))"
      ],
      "execution_count": null,
      "outputs": []
    },
    {
      "cell_type": "code",
      "metadata": {
        "id": "E8t4U2P3MeQy"
      },
      "source": [
        "# Converting to Pandas Dataframe\n",
        "data=pd.DataFrame({\"inputs\":inputs,\n",
        "                    \"tags\":tags})"
      ],
      "execution_count": null,
      "outputs": []
    },
    {
      "cell_type": "code",
      "metadata": {
        "colab": {
          "base_uri": "https://localhost:8080/"
        },
        "id": "gegiq1b6MeQ0",
        "outputId": "aa795f72-cbac-4b39-9a32-76bf125a0314"
      },
      "source": [
        "print(data)"
      ],
      "execution_count": null,
      "outputs": [
        {
          "output_type": "stream",
          "name": "stdout",
          "text": [
            "                                  inputs                    tags\n",
            "0                               Hi there                greeting\n",
            "1                            How are you                greeting\n",
            "2                       Is anyone there?                greeting\n",
            "3                                    Hey                greeting\n",
            "4                                   Hola                greeting\n",
            "5                                  Hello                greeting\n",
            "6                               Good day                greeting\n",
            "7                                    Bye                 goodbye\n",
            "8                          See you later                 goodbye\n",
            "9                                Goodbye                 goodbye\n",
            "10             Nice chatting to you, bye                 goodbye\n",
            "11                        Till next time                 goodbye\n",
            "12                                Thanks                  thanks\n",
            "13                             Thank you                  thanks\n",
            "14                        That's helpful                  thanks\n",
            "15                       Awesome, thanks                  thanks\n",
            "16                 Thanks for helping me                  thanks\n",
            "17  What are some symptoms of depression             deepression\n",
            "18                    What is depression             deepression\n",
            "19                        Not that great                 feeling\n",
            "20                         I am stressed                 feeling\n",
            "21                               I’m sad                 feeling\n",
            "22                I am feeling depressed                 feeling\n",
            "23             I think I am overthinking            overthinking\n",
            "24                           I Overthink            overthinking\n",
            "25             I’m very confused in life   overthinking-continue\n",
            "26                 Tell me more about it  overthinking-continue1\n",
            "27                       You are awesome  overthinking-continue2\n",
            "28                          I'm all ears  overthinking-continue3\n"
          ]
        }
      ]
    },
    {
      "cell_type": "code",
      "metadata": {
        "id": "VO_Nj-X9MeQ2"
      },
      "source": [
        "data=data.sample(frac=1)"
      ],
      "execution_count": null,
      "outputs": []
    },
    {
      "cell_type": "code",
      "metadata": {
        "colab": {
          "base_uri": "https://localhost:8080/",
          "height": 925
        },
        "id": "8bk8HwoNMeQ3",
        "outputId": "d13de4b3-ab84-44ae-b0f5-e475169319c6"
      },
      "source": [
        "# Import preprocessing to remove the punctuations\n",
        "import string\n",
        "data['inputs']= data['inputs'].apply(lambda wrd:[ltrs.lower() for ltrs in wrd if ltrs not in string.punctuation])\n",
        "data['inputs']=data['inputs'].apply(lambda wrd:''.join(wrd))\n",
        "data"
      ],
      "execution_count": null,
      "outputs": [
        {
          "output_type": "execute_result",
          "data": {
            "text/html": [
              "<div>\n",
              "<style scoped>\n",
              "    .dataframe tbody tr th:only-of-type {\n",
              "        vertical-align: middle;\n",
              "    }\n",
              "\n",
              "    .dataframe tbody tr th {\n",
              "        vertical-align: top;\n",
              "    }\n",
              "\n",
              "    .dataframe thead th {\n",
              "        text-align: right;\n",
              "    }\n",
              "</style>\n",
              "<table border=\"1\" class=\"dataframe\">\n",
              "  <thead>\n",
              "    <tr style=\"text-align: right;\">\n",
              "      <th></th>\n",
              "      <th>inputs</th>\n",
              "      <th>tags</th>\n",
              "    </tr>\n",
              "  </thead>\n",
              "  <tbody>\n",
              "    <tr>\n",
              "      <th>0</th>\n",
              "      <td>hi there</td>\n",
              "      <td>greeting</td>\n",
              "    </tr>\n",
              "    <tr>\n",
              "      <th>1</th>\n",
              "      <td>how are you</td>\n",
              "      <td>greeting</td>\n",
              "    </tr>\n",
              "    <tr>\n",
              "      <th>2</th>\n",
              "      <td>is anyone there</td>\n",
              "      <td>greeting</td>\n",
              "    </tr>\n",
              "    <tr>\n",
              "      <th>3</th>\n",
              "      <td>hey</td>\n",
              "      <td>greeting</td>\n",
              "    </tr>\n",
              "    <tr>\n",
              "      <th>4</th>\n",
              "      <td>hola</td>\n",
              "      <td>greeting</td>\n",
              "    </tr>\n",
              "    <tr>\n",
              "      <th>5</th>\n",
              "      <td>hello</td>\n",
              "      <td>greeting</td>\n",
              "    </tr>\n",
              "    <tr>\n",
              "      <th>6</th>\n",
              "      <td>good day</td>\n",
              "      <td>greeting</td>\n",
              "    </tr>\n",
              "    <tr>\n",
              "      <th>7</th>\n",
              "      <td>bye</td>\n",
              "      <td>goodbye</td>\n",
              "    </tr>\n",
              "    <tr>\n",
              "      <th>8</th>\n",
              "      <td>see you later</td>\n",
              "      <td>goodbye</td>\n",
              "    </tr>\n",
              "    <tr>\n",
              "      <th>9</th>\n",
              "      <td>goodbye</td>\n",
              "      <td>goodbye</td>\n",
              "    </tr>\n",
              "    <tr>\n",
              "      <th>10</th>\n",
              "      <td>nice chatting to you bye</td>\n",
              "      <td>goodbye</td>\n",
              "    </tr>\n",
              "    <tr>\n",
              "      <th>11</th>\n",
              "      <td>till next time</td>\n",
              "      <td>goodbye</td>\n",
              "    </tr>\n",
              "    <tr>\n",
              "      <th>12</th>\n",
              "      <td>thanks</td>\n",
              "      <td>thanks</td>\n",
              "    </tr>\n",
              "    <tr>\n",
              "      <th>13</th>\n",
              "      <td>thank you</td>\n",
              "      <td>thanks</td>\n",
              "    </tr>\n",
              "    <tr>\n",
              "      <th>14</th>\n",
              "      <td>thats helpful</td>\n",
              "      <td>thanks</td>\n",
              "    </tr>\n",
              "    <tr>\n",
              "      <th>15</th>\n",
              "      <td>awesome thanks</td>\n",
              "      <td>thanks</td>\n",
              "    </tr>\n",
              "    <tr>\n",
              "      <th>16</th>\n",
              "      <td>thanks for helping me</td>\n",
              "      <td>thanks</td>\n",
              "    </tr>\n",
              "    <tr>\n",
              "      <th>17</th>\n",
              "      <td>what are some symptoms of depression</td>\n",
              "      <td>deepression</td>\n",
              "    </tr>\n",
              "    <tr>\n",
              "      <th>18</th>\n",
              "      <td>what is depression</td>\n",
              "      <td>deepression</td>\n",
              "    </tr>\n",
              "    <tr>\n",
              "      <th>19</th>\n",
              "      <td>not that great</td>\n",
              "      <td>feeling</td>\n",
              "    </tr>\n",
              "    <tr>\n",
              "      <th>20</th>\n",
              "      <td>i am stressed</td>\n",
              "      <td>feeling</td>\n",
              "    </tr>\n",
              "    <tr>\n",
              "      <th>21</th>\n",
              "      <td>i’m sad</td>\n",
              "      <td>feeling</td>\n",
              "    </tr>\n",
              "    <tr>\n",
              "      <th>22</th>\n",
              "      <td>i am feeling depressed</td>\n",
              "      <td>feeling</td>\n",
              "    </tr>\n",
              "    <tr>\n",
              "      <th>23</th>\n",
              "      <td>i think i am overthinking</td>\n",
              "      <td>overthinking</td>\n",
              "    </tr>\n",
              "    <tr>\n",
              "      <th>24</th>\n",
              "      <td>i overthink</td>\n",
              "      <td>overthinking</td>\n",
              "    </tr>\n",
              "    <tr>\n",
              "      <th>25</th>\n",
              "      <td>i’m very confused in life</td>\n",
              "      <td>overthinking-continue</td>\n",
              "    </tr>\n",
              "    <tr>\n",
              "      <th>26</th>\n",
              "      <td>tell me more about it</td>\n",
              "      <td>overthinking-continue1</td>\n",
              "    </tr>\n",
              "    <tr>\n",
              "      <th>27</th>\n",
              "      <td>you are awesome</td>\n",
              "      <td>overthinking-continue2</td>\n",
              "    </tr>\n",
              "    <tr>\n",
              "      <th>28</th>\n",
              "      <td>im all ears</td>\n",
              "      <td>overthinking-continue3</td>\n",
              "    </tr>\n",
              "  </tbody>\n",
              "</table>\n",
              "</div>"
            ],
            "text/plain": [
              "                                  inputs                    tags\n",
              "0                               hi there                greeting\n",
              "1                            how are you                greeting\n",
              "2                        is anyone there                greeting\n",
              "3                                    hey                greeting\n",
              "4                                   hola                greeting\n",
              "5                                  hello                greeting\n",
              "6                               good day                greeting\n",
              "7                                    bye                 goodbye\n",
              "8                          see you later                 goodbye\n",
              "9                                goodbye                 goodbye\n",
              "10              nice chatting to you bye                 goodbye\n",
              "11                        till next time                 goodbye\n",
              "12                                thanks                  thanks\n",
              "13                             thank you                  thanks\n",
              "14                         thats helpful                  thanks\n",
              "15                        awesome thanks                  thanks\n",
              "16                 thanks for helping me                  thanks\n",
              "17  what are some symptoms of depression             deepression\n",
              "18                    what is depression             deepression\n",
              "19                        not that great                 feeling\n",
              "20                         i am stressed                 feeling\n",
              "21                               i’m sad                 feeling\n",
              "22                i am feeling depressed                 feeling\n",
              "23             i think i am overthinking            overthinking\n",
              "24                           i overthink            overthinking\n",
              "25             i’m very confused in life   overthinking-continue\n",
              "26                 tell me more about it  overthinking-continue1\n",
              "27                       you are awesome  overthinking-continue2\n",
              "28                           im all ears  overthinking-continue3"
            ]
          },
          "metadata": {},
          "execution_count": 7
        }
      ]
    },
    {
      "cell_type": "code",
      "metadata": {
        "id": "mxdrr2JTMeQ5"
      },
      "source": [
        "# Tokenize the data \n",
        "from tensorflow.keras.preprocessing.text import Tokenizer\n",
        "tokenizer=Tokenizer(num_words=2000)\n",
        "tokenizer.fit_on_texts(data['inputs'])\n",
        "train=tokenizer.texts_to_sequences(data['inputs'])\n",
        "\n",
        "# Apply Padding\n",
        "from tensorflow.keras.preprocessing.sequence import pad_sequences\n",
        "x_train=pad_sequences(train)\n",
        "\n",
        "# Encoding the outputs\n",
        "from sklearn.preprocessing import LabelEncoder\n",
        "le=LabelEncoder()\n",
        "y_train=le.fit_transform(data['tags'])"
      ],
      "execution_count": null,
      "outputs": []
    },
    {
      "cell_type": "code",
      "metadata": {
        "colab": {
          "base_uri": "https://localhost:8080/"
        },
        "id": "sHL1PysuMeQ7",
        "outputId": "752c34e5-c564-4cd1-a1b2-fbc473e8b433"
      },
      "source": [
        "input_shape=x_train.shape[1]\n",
        "print(input_shape)"
      ],
      "execution_count": null,
      "outputs": [
        {
          "output_type": "stream",
          "name": "stdout",
          "text": [
            "6\n"
          ]
        }
      ]
    },
    {
      "cell_type": "code",
      "metadata": {
        "colab": {
          "base_uri": "https://localhost:8080/"
        },
        "id": "NSCijFOoMeQ9",
        "outputId": "05371b5e-1877-410c-c0c0-851eae9ff124"
      },
      "source": [
        "# Define Vocabulary\n",
        "vocabulary=len(tokenizer.word_index)\n",
        "print(\"number of unique words:\",vocabulary)\n",
        "output_length=le.classes_.shape[0]\n",
        "print(\"outputlength:\",output_length)"
      ],
      "execution_count": null,
      "outputs": [
        {
          "output_type": "stream",
          "name": "stdout",
          "text": [
            "number of unique words: 59\n",
            "outputlength: 10\n"
          ]
        }
      ]
    },
    {
      "cell_type": "markdown",
      "metadata": {
        "id": "YnEJtH7pMeQ-"
      },
      "source": [
        "#### Build the model"
      ]
    },
    {
      "cell_type": "code",
      "metadata": {
        "colab": {
          "base_uri": "https://localhost:8080/"
        },
        "id": "2L_b7xK_MeRD",
        "outputId": "f368e078-0f15-42cc-e7e4-6f8f7c541f9e"
      },
      "source": [
        "i=Input(shape=(input_shape,))\n",
        "x=Embedding(vocabulary+1,10)(i)\n",
        "x=LSTM(10,return_sequences=True)(x)\n",
        "x=Flatten()(x)\n",
        "x=Dense(output_length,activation=\"softmax\")(x)\n",
        "model= Model(i,x)\n",
        "model.summary()"
      ],
      "execution_count": null,
      "outputs": [
        {
          "output_type": "stream",
          "name": "stdout",
          "text": [
            "Model: \"model\"\n",
            "_________________________________________________________________\n",
            " Layer (type)                Output Shape              Param #   \n",
            "=================================================================\n",
            " input_1 (InputLayer)        [(None, 6)]               0         \n",
            "                                                                 \n",
            " embedding (Embedding)       (None, 6, 10)             600       \n",
            "                                                                 \n",
            " lstm (LSTM)                 (None, 6, 10)             840       \n",
            "                                                                 \n",
            " flatten (Flatten)           (None, 60)                0         \n",
            "                                                                 \n",
            " dense (Dense)               (None, 10)                610       \n",
            "                                                                 \n",
            "=================================================================\n",
            "Total params: 2,050\n",
            "Trainable params: 2,050\n",
            "Non-trainable params: 0\n",
            "_________________________________________________________________\n"
          ]
        }
      ]
    },
    {
      "cell_type": "code",
      "metadata": {
        "id": "jRQAEA_BMeRI"
      },
      "source": [
        "# Compile the model\n",
        "model.compile(loss='sparse_categorical_crossentropy',optimizer='adam',metrics=['accuracy'])"
      ],
      "execution_count": null,
      "outputs": []
    },
    {
      "cell_type": "code",
      "metadata": {
        "scrolled": false,
        "colab": {
          "base_uri": "https://localhost:8080/"
        },
        "id": "2WKC19noMeRJ",
        "outputId": "0e9ecb47-0f68-4f27-80d3-da9ce29ef794"
      },
      "source": [
        "# Training the model\n",
        "train=model.fit(x_train,y_train,epochs=200)"
      ],
      "execution_count": null,
      "outputs": [
        {
          "output_type": "stream",
          "name": "stdout",
          "text": [
            "Epoch 1/200\n",
            "1/1 [==============================] - 2s 2s/step - loss: 2.3080 - accuracy: 0.0690\n",
            "Epoch 2/200\n",
            "1/1 [==============================] - 0s 9ms/step - loss: 2.3056 - accuracy: 0.0690\n",
            "Epoch 3/200\n",
            "1/1 [==============================] - 0s 9ms/step - loss: 2.3032 - accuracy: 0.0690\n",
            "Epoch 4/200\n",
            "1/1 [==============================] - 0s 12ms/step - loss: 2.3009 - accuracy: 0.0690\n",
            "Epoch 5/200\n",
            "1/1 [==============================] - 0s 10ms/step - loss: 2.2987 - accuracy: 0.1034\n",
            "Epoch 6/200\n",
            "1/1 [==============================] - 0s 10ms/step - loss: 2.2964 - accuracy: 0.3793\n",
            "Epoch 7/200\n",
            "1/1 [==============================] - 0s 8ms/step - loss: 2.2942 - accuracy: 0.3793\n",
            "Epoch 8/200\n",
            "1/1 [==============================] - 0s 9ms/step - loss: 2.2920 - accuracy: 0.3448\n",
            "Epoch 9/200\n",
            "1/1 [==============================] - 0s 10ms/step - loss: 2.2898 - accuracy: 0.3448\n",
            "Epoch 10/200\n",
            "1/1 [==============================] - 0s 11ms/step - loss: 2.2875 - accuracy: 0.3448\n",
            "Epoch 11/200\n",
            "1/1 [==============================] - 0s 10ms/step - loss: 2.2853 - accuracy: 0.3448\n",
            "Epoch 12/200\n",
            "1/1 [==============================] - 0s 9ms/step - loss: 2.2829 - accuracy: 0.3793\n",
            "Epoch 13/200\n",
            "1/1 [==============================] - 0s 10ms/step - loss: 2.2806 - accuracy: 0.3793\n",
            "Epoch 14/200\n",
            "1/1 [==============================] - 0s 10ms/step - loss: 2.2782 - accuracy: 0.3793\n",
            "Epoch 15/200\n",
            "1/1 [==============================] - 0s 10ms/step - loss: 2.2757 - accuracy: 0.3793\n",
            "Epoch 16/200\n",
            "1/1 [==============================] - 0s 10ms/step - loss: 2.2731 - accuracy: 0.3793\n",
            "Epoch 17/200\n",
            "1/1 [==============================] - 0s 9ms/step - loss: 2.2704 - accuracy: 0.3793\n",
            "Epoch 18/200\n",
            "1/1 [==============================] - 0s 8ms/step - loss: 2.2677 - accuracy: 0.3793\n",
            "Epoch 19/200\n",
            "1/1 [==============================] - 0s 9ms/step - loss: 2.2648 - accuracy: 0.3793\n",
            "Epoch 20/200\n",
            "1/1 [==============================] - 0s 8ms/step - loss: 2.2619 - accuracy: 0.3793\n",
            "Epoch 21/200\n",
            "1/1 [==============================] - 0s 7ms/step - loss: 2.2588 - accuracy: 0.3793\n",
            "Epoch 22/200\n",
            "1/1 [==============================] - 0s 9ms/step - loss: 2.2556 - accuracy: 0.3793\n",
            "Epoch 23/200\n",
            "1/1 [==============================] - 0s 8ms/step - loss: 2.2523 - accuracy: 0.3793\n",
            "Epoch 24/200\n",
            "1/1 [==============================] - 0s 8ms/step - loss: 2.2488 - accuracy: 0.3448\n",
            "Epoch 25/200\n",
            "1/1 [==============================] - 0s 8ms/step - loss: 2.2452 - accuracy: 0.3448\n",
            "Epoch 26/200\n",
            "1/1 [==============================] - 0s 9ms/step - loss: 2.2415 - accuracy: 0.3448\n",
            "Epoch 27/200\n",
            "1/1 [==============================] - 0s 7ms/step - loss: 2.2375 - accuracy: 0.3448\n",
            "Epoch 28/200\n",
            "1/1 [==============================] - 0s 9ms/step - loss: 2.2335 - accuracy: 0.3448\n",
            "Epoch 29/200\n",
            "1/1 [==============================] - 0s 10ms/step - loss: 2.2292 - accuracy: 0.3448\n",
            "Epoch 30/200\n",
            "1/1 [==============================] - 0s 8ms/step - loss: 2.2248 - accuracy: 0.2759\n",
            "Epoch 31/200\n",
            "1/1 [==============================] - 0s 8ms/step - loss: 2.2201 - accuracy: 0.2759\n",
            "Epoch 32/200\n",
            "1/1 [==============================] - 0s 6ms/step - loss: 2.2153 - accuracy: 0.2759\n",
            "Epoch 33/200\n",
            "1/1 [==============================] - 0s 9ms/step - loss: 2.2102 - accuracy: 0.2759\n",
            "Epoch 34/200\n",
            "1/1 [==============================] - 0s 8ms/step - loss: 2.2050 - accuracy: 0.2759\n",
            "Epoch 35/200\n",
            "1/1 [==============================] - 0s 7ms/step - loss: 2.1995 - accuracy: 0.2759\n",
            "Epoch 36/200\n",
            "1/1 [==============================] - 0s 7ms/step - loss: 2.1937 - accuracy: 0.2759\n",
            "Epoch 37/200\n",
            "1/1 [==============================] - 0s 8ms/step - loss: 2.1878 - accuracy: 0.2759\n",
            "Epoch 38/200\n",
            "1/1 [==============================] - 0s 7ms/step - loss: 2.1815 - accuracy: 0.2759\n",
            "Epoch 39/200\n",
            "1/1 [==============================] - 0s 8ms/step - loss: 2.1751 - accuracy: 0.2759\n",
            "Epoch 40/200\n",
            "1/1 [==============================] - 0s 8ms/step - loss: 2.1683 - accuracy: 0.2759\n",
            "Epoch 41/200\n",
            "1/1 [==============================] - 0s 8ms/step - loss: 2.1613 - accuracy: 0.2759\n",
            "Epoch 42/200\n",
            "1/1 [==============================] - 0s 8ms/step - loss: 2.1540 - accuracy: 0.2759\n",
            "Epoch 43/200\n",
            "1/1 [==============================] - 0s 7ms/step - loss: 2.1465 - accuracy: 0.2759\n",
            "Epoch 44/200\n",
            "1/1 [==============================] - 0s 8ms/step - loss: 2.1387 - accuracy: 0.2759\n",
            "Epoch 45/200\n",
            "1/1 [==============================] - 0s 11ms/step - loss: 2.1306 - accuracy: 0.2759\n",
            "Epoch 46/200\n",
            "1/1 [==============================] - 0s 8ms/step - loss: 2.1222 - accuracy: 0.2759\n",
            "Epoch 47/200\n",
            "1/1 [==============================] - 0s 7ms/step - loss: 2.1136 - accuracy: 0.2759\n",
            "Epoch 48/200\n",
            "1/1 [==============================] - 0s 7ms/step - loss: 2.1047 - accuracy: 0.2759\n",
            "Epoch 49/200\n",
            "1/1 [==============================] - 0s 9ms/step - loss: 2.0956 - accuracy: 0.2759\n",
            "Epoch 50/200\n",
            "1/1 [==============================] - 0s 8ms/step - loss: 2.0863 - accuracy: 0.2759\n",
            "Epoch 51/200\n",
            "1/1 [==============================] - 0s 10ms/step - loss: 2.0767 - accuracy: 0.2759\n",
            "Epoch 52/200\n",
            "1/1 [==============================] - 0s 7ms/step - loss: 2.0670 - accuracy: 0.2759\n",
            "Epoch 53/200\n",
            "1/1 [==============================] - 0s 8ms/step - loss: 2.0571 - accuracy: 0.2759\n",
            "Epoch 54/200\n",
            "1/1 [==============================] - 0s 8ms/step - loss: 2.0470 - accuracy: 0.2759\n",
            "Epoch 55/200\n",
            "1/1 [==============================] - 0s 7ms/step - loss: 2.0369 - accuracy: 0.2759\n",
            "Epoch 56/200\n",
            "1/1 [==============================] - 0s 8ms/step - loss: 2.0267 - accuracy: 0.2759\n",
            "Epoch 57/200\n",
            "1/1 [==============================] - 0s 9ms/step - loss: 2.0165 - accuracy: 0.2759\n",
            "Epoch 58/200\n",
            "1/1 [==============================] - 0s 7ms/step - loss: 2.0064 - accuracy: 0.2759\n",
            "Epoch 59/200\n",
            "1/1 [==============================] - 0s 9ms/step - loss: 1.9963 - accuracy: 0.2759\n",
            "Epoch 60/200\n",
            "1/1 [==============================] - 0s 8ms/step - loss: 1.9864 - accuracy: 0.2759\n",
            "Epoch 61/200\n",
            "1/1 [==============================] - 0s 7ms/step - loss: 1.9767 - accuracy: 0.2759\n",
            "Epoch 62/200\n",
            "1/1 [==============================] - 0s 9ms/step - loss: 1.9672 - accuracy: 0.2759\n",
            "Epoch 63/200\n",
            "1/1 [==============================] - 0s 8ms/step - loss: 1.9581 - accuracy: 0.2759\n",
            "Epoch 64/200\n",
            "1/1 [==============================] - 0s 8ms/step - loss: 1.9494 - accuracy: 0.2414\n",
            "Epoch 65/200\n",
            "1/1 [==============================] - 0s 7ms/step - loss: 1.9411 - accuracy: 0.2414\n",
            "Epoch 66/200\n",
            "1/1 [==============================] - 0s 8ms/step - loss: 1.9333 - accuracy: 0.2414\n",
            "Epoch 67/200\n",
            "1/1 [==============================] - 0s 8ms/step - loss: 1.9259 - accuracy: 0.2414\n",
            "Epoch 68/200\n",
            "1/1 [==============================] - 0s 7ms/step - loss: 1.9191 - accuracy: 0.2414\n",
            "Epoch 69/200\n",
            "1/1 [==============================] - 0s 7ms/step - loss: 1.9128 - accuracy: 0.2414\n",
            "Epoch 70/200\n",
            "1/1 [==============================] - 0s 9ms/step - loss: 1.9070 - accuracy: 0.2414\n",
            "Epoch 71/200\n",
            "1/1 [==============================] - 0s 8ms/step - loss: 1.9016 - accuracy: 0.2414\n",
            "Epoch 72/200\n",
            "1/1 [==============================] - 0s 9ms/step - loss: 1.8967 - accuracy: 0.2414\n",
            "Epoch 73/200\n",
            "1/1 [==============================] - 0s 8ms/step - loss: 1.8921 - accuracy: 0.2759\n",
            "Epoch 74/200\n",
            "1/1 [==============================] - 0s 7ms/step - loss: 1.8877 - accuracy: 0.2759\n",
            "Epoch 75/200\n",
            "1/1 [==============================] - 0s 6ms/step - loss: 1.8835 - accuracy: 0.2759\n",
            "Epoch 76/200\n",
            "1/1 [==============================] - 0s 8ms/step - loss: 1.8794 - accuracy: 0.2759\n",
            "Epoch 77/200\n",
            "1/1 [==============================] - 0s 7ms/step - loss: 1.8753 - accuracy: 0.2759\n",
            "Epoch 78/200\n",
            "1/1 [==============================] - 0s 6ms/step - loss: 1.8711 - accuracy: 0.2759\n",
            "Epoch 79/200\n",
            "1/1 [==============================] - 0s 9ms/step - loss: 1.8668 - accuracy: 0.2759\n",
            "Epoch 80/200\n",
            "1/1 [==============================] - 0s 8ms/step - loss: 1.8624 - accuracy: 0.2759\n",
            "Epoch 81/200\n",
            "1/1 [==============================] - 0s 9ms/step - loss: 1.8577 - accuracy: 0.2759\n",
            "Epoch 82/200\n",
            "1/1 [==============================] - 0s 8ms/step - loss: 1.8529 - accuracy: 0.2759\n",
            "Epoch 83/200\n",
            "1/1 [==============================] - 0s 9ms/step - loss: 1.8479 - accuracy: 0.2759\n",
            "Epoch 84/200\n",
            "1/1 [==============================] - 0s 7ms/step - loss: 1.8428 - accuracy: 0.2759\n",
            "Epoch 85/200\n",
            "1/1 [==============================] - 0s 7ms/step - loss: 1.8375 - accuracy: 0.2759\n",
            "Epoch 86/200\n",
            "1/1 [==============================] - 0s 8ms/step - loss: 1.8321 - accuracy: 0.2759\n",
            "Epoch 87/200\n",
            "1/1 [==============================] - 0s 6ms/step - loss: 1.8266 - accuracy: 0.2759\n",
            "Epoch 88/200\n",
            "1/1 [==============================] - 0s 7ms/step - loss: 1.8211 - accuracy: 0.2759\n",
            "Epoch 89/200\n",
            "1/1 [==============================] - 0s 7ms/step - loss: 1.8155 - accuracy: 0.2759\n",
            "Epoch 90/200\n",
            "1/1 [==============================] - 0s 8ms/step - loss: 1.8100 - accuracy: 0.2759\n",
            "Epoch 91/200\n",
            "1/1 [==============================] - 0s 7ms/step - loss: 1.8044 - accuracy: 0.2759\n",
            "Epoch 92/200\n",
            "1/1 [==============================] - 0s 9ms/step - loss: 1.7989 - accuracy: 0.2759\n",
            "Epoch 93/200\n",
            "1/1 [==============================] - 0s 7ms/step - loss: 1.7933 - accuracy: 0.3103\n",
            "Epoch 94/200\n",
            "1/1 [==============================] - 0s 8ms/step - loss: 1.7878 - accuracy: 0.3103\n",
            "Epoch 95/200\n",
            "1/1 [==============================] - 0s 7ms/step - loss: 1.7822 - accuracy: 0.3103\n",
            "Epoch 96/200\n",
            "1/1 [==============================] - 0s 10ms/step - loss: 1.7766 - accuracy: 0.3103\n",
            "Epoch 97/200\n",
            "1/1 [==============================] - 0s 8ms/step - loss: 1.7710 - accuracy: 0.3103\n",
            "Epoch 98/200\n",
            "1/1 [==============================] - 0s 7ms/step - loss: 1.7654 - accuracy: 0.3103\n",
            "Epoch 99/200\n",
            "1/1 [==============================] - 0s 7ms/step - loss: 1.7597 - accuracy: 0.3103\n",
            "Epoch 100/200\n",
            "1/1 [==============================] - 0s 8ms/step - loss: 1.7540 - accuracy: 0.3103\n",
            "Epoch 101/200\n",
            "1/1 [==============================] - 0s 8ms/step - loss: 1.7481 - accuracy: 0.3448\n",
            "Epoch 102/200\n",
            "1/1 [==============================] - 0s 8ms/step - loss: 1.7423 - accuracy: 0.3793\n",
            "Epoch 103/200\n",
            "1/1 [==============================] - 0s 8ms/step - loss: 1.7363 - accuracy: 0.4138\n",
            "Epoch 104/200\n",
            "1/1 [==============================] - 0s 8ms/step - loss: 1.7302 - accuracy: 0.4138\n",
            "Epoch 105/200\n",
            "1/1 [==============================] - 0s 9ms/step - loss: 1.7241 - accuracy: 0.4138\n",
            "Epoch 106/200\n",
            "1/1 [==============================] - 0s 8ms/step - loss: 1.7179 - accuracy: 0.4138\n",
            "Epoch 107/200\n",
            "1/1 [==============================] - 0s 8ms/step - loss: 1.7116 - accuracy: 0.4138\n",
            "Epoch 108/200\n",
            "1/1 [==============================] - 0s 8ms/step - loss: 1.7052 - accuracy: 0.4138\n",
            "Epoch 109/200\n",
            "1/1 [==============================] - 0s 7ms/step - loss: 1.6987 - accuracy: 0.4138\n",
            "Epoch 110/200\n",
            "1/1 [==============================] - 0s 8ms/step - loss: 1.6921 - accuracy: 0.4138\n",
            "Epoch 111/200\n",
            "1/1 [==============================] - 0s 8ms/step - loss: 1.6855 - accuracy: 0.4138\n",
            "Epoch 112/200\n",
            "1/1 [==============================] - 0s 7ms/step - loss: 1.6788 - accuracy: 0.4138\n",
            "Epoch 113/200\n",
            "1/1 [==============================] - 0s 7ms/step - loss: 1.6721 - accuracy: 0.4138\n",
            "Epoch 114/200\n",
            "1/1 [==============================] - 0s 7ms/step - loss: 1.6652 - accuracy: 0.4138\n",
            "Epoch 115/200\n",
            "1/1 [==============================] - 0s 7ms/step - loss: 1.6583 - accuracy: 0.4138\n",
            "Epoch 116/200\n",
            "1/1 [==============================] - 0s 8ms/step - loss: 1.6513 - accuracy: 0.4138\n",
            "Epoch 117/200\n",
            "1/1 [==============================] - 0s 8ms/step - loss: 1.6442 - accuracy: 0.4138\n",
            "Epoch 118/200\n",
            "1/1 [==============================] - 0s 9ms/step - loss: 1.6370 - accuracy: 0.4138\n",
            "Epoch 119/200\n",
            "1/1 [==============================] - 0s 7ms/step - loss: 1.6297 - accuracy: 0.4138\n",
            "Epoch 120/200\n",
            "1/1 [==============================] - 0s 9ms/step - loss: 1.6223 - accuracy: 0.4138\n",
            "Epoch 121/200\n",
            "1/1 [==============================] - 0s 9ms/step - loss: 1.6149 - accuracy: 0.4138\n",
            "Epoch 122/200\n",
            "1/1 [==============================] - 0s 7ms/step - loss: 1.6073 - accuracy: 0.4138\n",
            "Epoch 123/200\n",
            "1/1 [==============================] - 0s 7ms/step - loss: 1.5997 - accuracy: 0.4138\n",
            "Epoch 124/200\n",
            "1/1 [==============================] - 0s 9ms/step - loss: 1.5920 - accuracy: 0.4138\n",
            "Epoch 125/200\n",
            "1/1 [==============================] - 0s 9ms/step - loss: 1.5841 - accuracy: 0.4138\n",
            "Epoch 126/200\n",
            "1/1 [==============================] - 0s 7ms/step - loss: 1.5762 - accuracy: 0.4138\n",
            "Epoch 127/200\n",
            "1/1 [==============================] - 0s 8ms/step - loss: 1.5682 - accuracy: 0.4138\n",
            "Epoch 128/200\n",
            "1/1 [==============================] - 0s 7ms/step - loss: 1.5601 - accuracy: 0.4138\n",
            "Epoch 129/200\n",
            "1/1 [==============================] - 0s 7ms/step - loss: 1.5519 - accuracy: 0.4138\n",
            "Epoch 130/200\n",
            "1/1 [==============================] - 0s 9ms/step - loss: 1.5436 - accuracy: 0.4138\n",
            "Epoch 131/200\n",
            "1/1 [==============================] - 0s 7ms/step - loss: 1.5352 - accuracy: 0.4483\n",
            "Epoch 132/200\n",
            "1/1 [==============================] - 0s 7ms/step - loss: 1.5268 - accuracy: 0.4483\n",
            "Epoch 133/200\n",
            "1/1 [==============================] - 0s 7ms/step - loss: 1.5182 - accuracy: 0.4483\n",
            "Epoch 134/200\n",
            "1/1 [==============================] - 0s 7ms/step - loss: 1.5096 - accuracy: 0.4828\n",
            "Epoch 135/200\n",
            "1/1 [==============================] - 0s 7ms/step - loss: 1.5008 - accuracy: 0.4828\n",
            "Epoch 136/200\n",
            "1/1 [==============================] - 0s 7ms/step - loss: 1.4920 - accuracy: 0.4828\n",
            "Epoch 137/200\n",
            "1/1 [==============================] - 0s 7ms/step - loss: 1.4830 - accuracy: 0.5172\n",
            "Epoch 138/200\n",
            "1/1 [==============================] - 0s 8ms/step - loss: 1.4740 - accuracy: 0.5172\n",
            "Epoch 139/200\n",
            "1/1 [==============================] - 0s 7ms/step - loss: 1.4649 - accuracy: 0.5172\n",
            "Epoch 140/200\n",
            "1/1 [==============================] - 0s 8ms/step - loss: 1.4557 - accuracy: 0.5172\n",
            "Epoch 141/200\n",
            "1/1 [==============================] - 0s 9ms/step - loss: 1.4464 - accuracy: 0.5172\n",
            "Epoch 142/200\n",
            "1/1 [==============================] - 0s 8ms/step - loss: 1.4370 - accuracy: 0.5172\n",
            "Epoch 143/200\n",
            "1/1 [==============================] - 0s 8ms/step - loss: 1.4276 - accuracy: 0.5172\n",
            "Epoch 144/200\n",
            "1/1 [==============================] - 0s 8ms/step - loss: 1.4180 - accuracy: 0.5172\n",
            "Epoch 145/200\n",
            "1/1 [==============================] - 0s 8ms/step - loss: 1.4084 - accuracy: 0.5172\n",
            "Epoch 146/200\n",
            "1/1 [==============================] - 0s 8ms/step - loss: 1.3987 - accuracy: 0.5517\n",
            "Epoch 147/200\n",
            "1/1 [==============================] - 0s 9ms/step - loss: 1.3889 - accuracy: 0.5517\n",
            "Epoch 148/200\n",
            "1/1 [==============================] - 0s 8ms/step - loss: 1.3791 - accuracy: 0.5517\n",
            "Epoch 149/200\n",
            "1/1 [==============================] - 0s 7ms/step - loss: 1.3691 - accuracy: 0.5517\n",
            "Epoch 150/200\n",
            "1/1 [==============================] - 0s 7ms/step - loss: 1.3591 - accuracy: 0.5517\n",
            "Epoch 151/200\n",
            "1/1 [==============================] - 0s 7ms/step - loss: 1.3490 - accuracy: 0.5862\n",
            "Epoch 152/200\n",
            "1/1 [==============================] - 0s 8ms/step - loss: 1.3389 - accuracy: 0.6207\n",
            "Epoch 153/200\n",
            "1/1 [==============================] - 0s 7ms/step - loss: 1.3287 - accuracy: 0.6207\n",
            "Epoch 154/200\n",
            "1/1 [==============================] - 0s 7ms/step - loss: 1.3184 - accuracy: 0.6207\n",
            "Epoch 155/200\n",
            "1/1 [==============================] - 0s 7ms/step - loss: 1.3080 - accuracy: 0.6207\n",
            "Epoch 156/200\n",
            "1/1 [==============================] - 0s 7ms/step - loss: 1.2976 - accuracy: 0.6552\n",
            "Epoch 157/200\n",
            "1/1 [==============================] - 0s 7ms/step - loss: 1.2872 - accuracy: 0.6897\n",
            "Epoch 158/200\n",
            "1/1 [==============================] - 0s 8ms/step - loss: 1.2766 - accuracy: 0.6897\n",
            "Epoch 159/200\n",
            "1/1 [==============================] - 0s 8ms/step - loss: 1.2660 - accuracy: 0.6897\n",
            "Epoch 160/200\n",
            "1/1 [==============================] - 0s 8ms/step - loss: 1.2554 - accuracy: 0.7241\n",
            "Epoch 161/200\n",
            "1/1 [==============================] - 0s 6ms/step - loss: 1.2447 - accuracy: 0.7241\n",
            "Epoch 162/200\n",
            "1/1 [==============================] - 0s 7ms/step - loss: 1.2340 - accuracy: 0.7241\n",
            "Epoch 163/200\n",
            "1/1 [==============================] - 0s 7ms/step - loss: 1.2232 - accuracy: 0.7586\n",
            "Epoch 164/200\n",
            "1/1 [==============================] - 0s 7ms/step - loss: 1.2123 - accuracy: 0.7586\n",
            "Epoch 165/200\n",
            "1/1 [==============================] - 0s 7ms/step - loss: 1.2015 - accuracy: 0.7586\n",
            "Epoch 166/200\n",
            "1/1 [==============================] - 0s 7ms/step - loss: 1.1905 - accuracy: 0.7586\n",
            "Epoch 167/200\n",
            "1/1 [==============================] - 0s 9ms/step - loss: 1.1796 - accuracy: 0.7586\n",
            "Epoch 168/200\n",
            "1/1 [==============================] - 0s 7ms/step - loss: 1.1685 - accuracy: 0.7931\n",
            "Epoch 169/200\n",
            "1/1 [==============================] - 0s 8ms/step - loss: 1.1575 - accuracy: 0.7931\n",
            "Epoch 170/200\n",
            "1/1 [==============================] - 0s 6ms/step - loss: 1.1464 - accuracy: 0.7931\n",
            "Epoch 171/200\n",
            "1/1 [==============================] - 0s 8ms/step - loss: 1.1353 - accuracy: 0.7931\n",
            "Epoch 172/200\n",
            "1/1 [==============================] - 0s 6ms/step - loss: 1.1241 - accuracy: 0.7931\n",
            "Epoch 173/200\n",
            "1/1 [==============================] - 0s 8ms/step - loss: 1.1129 - accuracy: 0.7931\n",
            "Epoch 174/200\n",
            "1/1 [==============================] - 0s 7ms/step - loss: 1.1017 - accuracy: 0.7931\n",
            "Epoch 175/200\n",
            "1/1 [==============================] - 0s 7ms/step - loss: 1.0905 - accuracy: 0.8276\n",
            "Epoch 176/200\n",
            "1/1 [==============================] - 0s 8ms/step - loss: 1.0792 - accuracy: 0.8276\n",
            "Epoch 177/200\n",
            "1/1 [==============================] - 0s 8ms/step - loss: 1.0679 - accuracy: 0.8276\n",
            "Epoch 178/200\n",
            "1/1 [==============================] - 0s 8ms/step - loss: 1.0566 - accuracy: 0.8276\n",
            "Epoch 179/200\n",
            "1/1 [==============================] - 0s 9ms/step - loss: 1.0453 - accuracy: 0.8966\n",
            "Epoch 180/200\n",
            "1/1 [==============================] - 0s 7ms/step - loss: 1.0339 - accuracy: 0.8966\n",
            "Epoch 181/200\n",
            "1/1 [==============================] - 0s 8ms/step - loss: 1.0226 - accuracy: 0.8966\n",
            "Epoch 182/200\n",
            "1/1 [==============================] - 0s 8ms/step - loss: 1.0112 - accuracy: 0.8966\n",
            "Epoch 183/200\n",
            "1/1 [==============================] - 0s 7ms/step - loss: 0.9998 - accuracy: 0.8966\n",
            "Epoch 184/200\n",
            "1/1 [==============================] - 0s 6ms/step - loss: 0.9885 - accuracy: 0.8966\n",
            "Epoch 185/200\n",
            "1/1 [==============================] - 0s 7ms/step - loss: 0.9771 - accuracy: 0.8966\n",
            "Epoch 186/200\n",
            "1/1 [==============================] - 0s 6ms/step - loss: 0.9657 - accuracy: 0.8966\n",
            "Epoch 187/200\n",
            "1/1 [==============================] - 0s 8ms/step - loss: 0.9544 - accuracy: 0.8966\n",
            "Epoch 188/200\n",
            "1/1 [==============================] - 0s 7ms/step - loss: 0.9430 - accuracy: 0.8966\n",
            "Epoch 189/200\n",
            "1/1 [==============================] - 0s 7ms/step - loss: 0.9317 - accuracy: 0.8966\n",
            "Epoch 190/200\n",
            "1/1 [==============================] - 0s 8ms/step - loss: 0.9204 - accuracy: 0.8966\n",
            "Epoch 191/200\n",
            "1/1 [==============================] - 0s 8ms/step - loss: 0.9092 - accuracy: 0.8966\n",
            "Epoch 192/200\n",
            "1/1 [==============================] - 0s 8ms/step - loss: 0.8979 - accuracy: 0.8966\n",
            "Epoch 193/200\n",
            "1/1 [==============================] - 0s 10ms/step - loss: 0.8867 - accuracy: 0.8966\n",
            "Epoch 194/200\n",
            "1/1 [==============================] - 0s 9ms/step - loss: 0.8755 - accuracy: 0.8966\n",
            "Epoch 195/200\n",
            "1/1 [==============================] - 0s 7ms/step - loss: 0.8644 - accuracy: 0.8966\n",
            "Epoch 196/200\n",
            "1/1 [==============================] - 0s 9ms/step - loss: 0.8533 - accuracy: 0.8966\n",
            "Epoch 197/200\n",
            "1/1 [==============================] - 0s 10ms/step - loss: 0.8423 - accuracy: 0.8966\n",
            "Epoch 198/200\n",
            "1/1 [==============================] - 0s 8ms/step - loss: 0.8313 - accuracy: 0.8966\n",
            "Epoch 199/200\n",
            "1/1 [==============================] - 0s 10ms/step - loss: 0.8204 - accuracy: 0.8966\n",
            "Epoch 200/200\n",
            "1/1 [==============================] - 0s 9ms/step - loss: 0.8096 - accuracy: 0.8966\n"
          ]
        }
      ]
    },
    {
      "cell_type": "code",
      "metadata": {
        "colab": {
          "base_uri": "https://localhost:8080/",
          "height": 278
        },
        "id": "tBvCA_SSMeRL",
        "outputId": "28ad98a0-c277-4163-c8a6-315dc535f99c"
      },
      "source": [
        "# Model Accuracy\n",
        "plt.plot(train.history['accuracy'],label='training set accuracy')\n",
        "plt.plot(train.history['loss'],label='training set loss')\n",
        "plt.legend(['accuracy','loss'])\n",
        "plt.xlabel(\"epochs\")\n",
        "plt.ylabel(\"values\")\n",
        "plt.show()"
      ],
      "execution_count": null,
      "outputs": [
        {
          "output_type": "display_data",
          "data": {
            "image/png": "[encoded data removed]",
            "text/plain": [
              "<Figure size 432x288 with 1 Axes>"
            ]
          },
          "metadata": {
            "needs_background": "light"
          }
        }
      ]
    },
    {
      "cell_type": "markdown",
      "metadata": {
        "id": "bqfJEGsC8qTm"
      },
      "source": [
        "Above plot shows that the model achieved 89% accuracy after 180 iterations and is training slowly after every iteration. Also, the model loss is reduced after every epoch with 0.8 at 200th  epoch.\n"
      ]
    },
    {
      "cell_type": "code",
      "metadata": {
        "id": "g7nPfjkdMeRN"
      },
      "source": [
        "model.save('model.h5', train)\n"
      ],
      "execution_count": null,
      "outputs": []
    },
    {
      "cell_type": "markdown",
      "metadata": {
        "id": "gmFDFL6HMeRU"
      },
      "source": [
        "#### Testing the model"
      ]
    },
    {
      "cell_type": "code",
      "metadata": {
        "colab": {
          "base_uri": "https://localhost:8080/"
        },
        "id": "JSkREajGMeRX",
        "outputId": "4a2aba2c-c048-4405-c0c1-15e9876cedc3"
      },
      "source": [
        "import random \n",
        "\n",
        "while True:\n",
        "  texts_p=[]\n",
        "  prediction_input=input('User:')\n",
        "\n",
        "\n",
        "  # Removing Punctuation and converting to lowercase\n",
        "  prediction_input=[letters.lower() for letters in prediction_input if letters not in string.punctuation]\n",
        "  prediction_input=''.join(prediction_input)\n",
        "  texts_p.append(prediction_input)\n",
        "\n",
        "# Tokenizing and Padding\n",
        "  prediction_input = tokenizer.texts_to_sequences(texts_p)\n",
        "  prediction_input = np.array(prediction_input).reshape(-1)\n",
        "  prediction_input = pad_sequences([prediction_input],input_shape)\n",
        "  \n",
        "\n",
        "# Getting output from model\n",
        "  output = model.predict(prediction_input)\n",
        "  output = output.argmax()\n",
        "\n",
        "# Find the right tag and prediction\n",
        "  response_tag = le.inverse_transform([output])[0]\n",
        "  print(\"Bot:\", random.choice(responses[response_tag]))\n",
        "  if response_tag==\"goodbye\":\n",
        "    break\n",
        "    \n",
        "   \n",
        "    \n",
        "\n"
      ],
      "execution_count": null,
      "outputs": [
        {
          "output_type": "stream",
          "name": "stdout",
          "text": [
            "User:Hi there\n",
            "Bot: Hello, thanks for asking\n",
            "User:I am sad\n",
            "Bot: I’m sorry to hear you’re not doing well today\n",
            "User:Thanks for the help\n",
            "Bot: Any time!\n",
            "User:goodbye\n",
            "Bot: See you!\n"
          ]
        }
      ]
    }
  ]
}